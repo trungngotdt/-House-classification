{
 "cells": [
  {
   "cell_type": "code",
   "execution_count": 2,
   "metadata": {
    "colab": {
     "base_uri": "https://localhost:8080/",
     "height": 54
    },
    "colab_type": "code",
    "id": "GQmSZHTai5CF",
    "outputId": "0ac42c66-156c-4b69-d850-7e1179b5a77d"
   },
   "outputs": [
    {
     "name": "stdout",
     "output_type": "stream",
     "text": [
      "tcmalloc: large alloc 1073750016 bytes == 0x582f8000 @  0x7f9b3fdbc2a4 0x591a07 0x5b5d56 0x502e9a 0x506859 0x502209 0x502f3d 0x506859 0x504c28 0x502540 0x502f3d 0x506859 0x504c28 0x502540 0x502f3d 0x506859 0x504c28 0x502540 0x502f3d 0x507641 0x502209 0x502f3d 0x506859 0x504c28 0x502540 0x502f3d 0x507641 0x504c28 0x502540 0x502f3d 0x507641\n"
     ]
    }
   ],
   "source": [
    "# http://pytorch.org/\n",
    "from os.path import exists\n",
    "from wheel.pep425tags import get_abbr_impl, get_impl_ver, get_abi_tag\n",
    "platform = '{}{}-{}'.format(get_abbr_impl(), get_impl_ver(), get_abi_tag())\n",
    "cuda_output = !ldconfig -p|grep cudart.so|sed -e 's/.*\\.\\([0-9]*\\)\\.\\([0-9]*\\)$/cu\\1\\2/'\n",
    "accelerator = cuda_output[0] if exists('/dev/nvidia0') else 'cpu'\n",
    "\n",
    "!pip install -q http://download.pytorch.org/whl/{accelerator}/torch-0.4.1-{platform}-linux_x86_64.whl torchvision\n",
    "import torch"
   ]
  },
  {
   "cell_type": "code",
   "execution_count": 0,
   "metadata": {
    "colab": {},
    "colab_type": "code",
    "id": "KjM8Pm9MJzxB"
   },
   "outputs": [],
   "source": [
    "\n",
    "def save_checkpoint(state, is_best, checkpoint,time):\n",
    "    \"\"\"Saves model and training parameters at checkpoint + 'last.pth.tar'. If is_best==True, also saves\n",
    "    checkpoint + 'best.pth.tar'\n",
    "    Args:\n",
    "        state: (dict) contains model's state_dict, may contain other keys such as epoch, optimizer state_dict\n",
    "        is_best: (bool) True if it is the best model seen till now\n",
    "        checkpoint: (string) folder where parameters are to be saved\n",
    "    \"\"\"\n",
    "    filepath = os.path.join(checkpoint,str(time)+ 'last.pth.tar')\n",
    "    if not os.path.exists(checkpoint):\n",
    "        print(\"Checkpoint Directory does not exist! Making directory {}\".format(checkpoint))\n",
    "        os.mkdir(checkpoint)\n",
    "    else:\n",
    "        print(\"Checkpoint Directory exists! \")\n",
    "    torch.save(state, filepath)\n",
    "    if is_best:\n",
    "        shutil.copyfile(filepath, os.path.join(checkpoint,str(time)+ 'best.pth.tar'))\n",
    "\n",
    "\n",
    "def load_checkpoint(checkpoint, model, optimizer=None):\n",
    "    \"\"\"Loads model parameters (state_dict) from file_path. If optimizer is provided, loads state_dict of\n",
    "    optimizer assuming it is present in checkpoint.\n",
    "    Args:\n",
    "        checkpoint: (string) filename which needs to be loaded\n",
    "        model: (torch.nn.Module) model for which the parameters are loaded\n",
    "        optimizer: (torch.optim) optional: resume optimizer from checkpoint\n",
    "    \"\"\"\n",
    "    if not os.path.exists(checkpoint):\n",
    "        raise(\"File doesn't exist {}\".format(checkpoint))\n",
    "    checkpoint = torch.load(checkpoint)\n",
    "    model.load_state_dict(checkpoint['state_dict'])\n",
    "\n",
    "    if optimizer:\n",
    "        optimizer.load_state_dict(checkpoint['optim_dict'])\n",
    "\n",
    "    return checkpoint"
   ]
  },
  {
   "cell_type": "code",
   "execution_count": 4,
   "metadata": {
    "colab": {
     "base_uri": "https://localhost:8080/",
     "height": 34
    },
    "colab_type": "code",
    "id": "IE-Kb8IKjHsd",
    "outputId": "01d09b4d-7b04-4b9f-a5a6-ae306def6f04"
   },
   "outputs": [
    {
     "name": "stderr",
     "output_type": "stream",
     "text": [
      "Using TensorFlow backend.\n"
     ]
    }
   ],
   "source": [
    "import numpy as np # NumPy is the fundamental package for scientific computing\n",
    "import time\n",
    "from keras.preprocessing.text import Tokenizer\n",
    "from keras.preprocessing.sequence import pad_sequences\n",
    "import pandas as pd \n",
    "pd.set_option('display.max_columns', None) \n",
    "import matplotlib.pyplot as plt \n",
    "import seaborn as sns \n",
    "sns.set_style('whitegrid')\n",
    "import warnings\n",
    "warnings.filterwarnings('ignore') \n",
    "import datetime\n",
    "import json\n",
    "import logging\n",
    "import os\n",
    "import shutil\n",
    "import regex\n",
    "from sklearn.preprocessing import LabelEncoder\n",
    "from scipy import stats\n",
    "import torch\n",
    "import torch.nn as nn\n",
    "import torchvision.transforms as transforms\n",
    "import torch.utils.data\n",
    "from torch.autograd import Variable\n",
    "import pandas as pd\n",
    "from sklearn.model_selection import train_test_split\n",
    "from sklearn import linear_model\n",
    "from sklearn import neighbors \n",
    "from sklearn.metrics import mean_squared_error \n",
    "from sklearn import preprocessing \n",
    "from sklearn.tree import DecisionTreeRegressor\n",
    "from math import log\n",
    "from sklearn.model_selection import train_test_split\n",
    "from sklearn.ensemble import RandomForestRegressor\n",
    "from sklearn.feature_extraction.text import CountVectorizer\n",
    "from sklearn.feature_extraction.text import TfidfVectorizer, TfidfTransformer\n",
    "#from pyvi import ViTokenizer"
   ]
  },
  {
   "cell_type": "markdown",
   "metadata": {
    "colab_type": "text",
    "id": "7lWNdZIXlZd8"
   },
   "source": [
    "Sử dụng hàm này để chuẩn hóa và lọc những từ không liên quan đến phân loại .\n",
    "\n",
    "Trước tiên ta chuyển đổi các chữ thành kiểu chữ thường rồi ta sử dụng regex để xóa bỏ các từ không phải là chữ rồi chuyển sang mảng chứa các từ của câu, sau đó là định nghĩa ra một mảng các từ không  liên quan rồi  là lọc ra các từ không liên quan .Ta cho mảng chứa các chữ của câu đầu vào chạy qua mảng các từ không liên quan chữ nào không có trong mảng các từ không liên quan thì giữ lại và tạo thành mảng mới.Rồi từ mảng đó ta ghép các từ lại cho ra câu văn sau xử lý"
   ]
  },
  {
   "cell_type": "code",
   "execution_count": 0,
   "metadata": {
    "colab": {},
    "colab_type": "code",
    "id": "TOUJxcafjL89"
   },
   "outputs": [],
   "source": [
    "def replace_words(text):\n",
    "   \n",
    "    text=text.lower()\n",
    "    text = regex.sub('[^\\p{Latin}\\n\\t\\s]', ' ', text).strip()\n",
    "    bagtext=text.split()\n",
    "    listremove=[]\n",
    "    textlist=[\"m\",\"giá\",\"triệu\",\"xm\",\"dt\",\"lh\",\"tỷ\",\"trm\",\"hotline\",\"tr\",\"mxm\", \"x\" ,\"t\",\"tl\",\"p\",\"q\",\"tp\",\"ql\",\"hcm\",\"hn\"]\n",
    "    for word in bagtext:\n",
    "      for i in textlist:\n",
    "        if str(word) == str(i) and len(word)==len(i):\n",
    "          listremove.append(word)\n",
    "\n",
    "    for word in listremove:\n",
    "      bagtext.remove(word)\n",
    "    text=\"\"\n",
    "    for i in bagtext:\n",
    "      text+=i+\" \"\n",
    "    \n",
    "    \n",
    "    return text.strip()"
   ]
  },
  {
   "cell_type": "markdown",
   "metadata": {
    "colab_type": "text",
    "id": "BQ8wr5LCl_PC"
   },
   "source": [
    "Đọc dữ liệu từ tập tin .csv vì chúng em chỉ sử dụng cột 'HouseTypeCssClass' và 'Title' nên tụi em bỏ cột  'Content' và 'Id'"
   ]
  },
  {
   "cell_type": "code",
   "execution_count": 0,
   "metadata": {
    "colab": {},
    "colab_type": "code",
    "id": "OXtDQtEteurW"
   },
   "outputs": [],
   "source": [
    "data=pd.read_csv(\"drive/My Drive/DataSet/bds_02.csv\");\n",
    "data=data.drop(['Id','Content'],axis=1)"
   ]
  },
  {
   "cell_type": "markdown",
   "metadata": {
    "colab_type": "text",
    "id": "yBsEL-09mZRD"
   },
   "source": [
    "Kiểm tra số dòng và kiểu dữ liệu trong data"
   ]
  },
  {
   "cell_type": "code",
   "execution_count": 8,
   "metadata": {
    "colab": {
     "base_uri": "https://localhost:8080/",
     "height": 136
    },
    "colab_type": "code",
    "id": "3JYNW06EfGCZ",
    "outputId": "ddbec7ad-d4cf-4c82-d448-384470d152c1"
   },
   "outputs": [
    {
     "name": "stdout",
     "output_type": "stream",
     "text": [
      "<class 'pandas.core.frame.DataFrame'>\n",
      "RangeIndex: 4992 entries, 0 to 4991\n",
      "Data columns (total 2 columns):\n",
      "Title                4992 non-null object\n",
      "HouseTypeCssClass    4992 non-null object\n",
      "dtypes: object(2)\n",
      "memory usage: 78.1+ KB\n"
     ]
    }
   ],
   "source": [
    "data.info()"
   ]
  },
  {
   "cell_type": "markdown",
   "metadata": {
    "colab_type": "text",
    "id": "owXbvruCmrNk"
   },
   "source": [
    "Tiếp theo là kiểm tra kích thước của tập dữ liệu"
   ]
  },
  {
   "cell_type": "code",
   "execution_count": 34,
   "metadata": {
    "colab": {
     "base_uri": "https://localhost:8080/",
     "height": 34
    },
    "colab_type": "code",
    "id": "iVl4ceHamoKu",
    "outputId": "07f682c5-ac2d-41f3-ba8f-971b8fe80b62"
   },
   "outputs": [
    {
     "data": {
      "text/plain": [
       "(4992, 2)"
      ]
     },
     "execution_count": 34,
     "metadata": {
      "tags": []
     },
     "output_type": "execute_result"
    }
   ],
   "source": [
    "data.shape"
   ]
  },
  {
   "cell_type": "markdown",
   "metadata": {
    "colab_type": "text",
    "id": "1cBFJjMHmfiB"
   },
   "source": [
    "Dữ liệu gồm 4992 dòng và 42cột, tương ứng với một bộ (4992, 2)\n",
    "\n",
    "Thử hiển thị một số dòng để xem đã đọc đúng hay chưa"
   ]
  },
  {
   "cell_type": "code",
   "execution_count": 9,
   "metadata": {
    "colab": {
     "base_uri": "https://localhost:8080/",
     "height": 204
    },
    "colab_type": "code",
    "id": "QurMjgIEfI4s",
    "outputId": "6afa00c0-d488-47af-ce96-a47e6a75bbf4"
   },
   "outputs": [
    {
     "data": {
      "text/html": [
       "<div>\n",
       "<style scoped>\n",
       "    .dataframe tbody tr th:only-of-type {\n",
       "        vertical-align: middle;\n",
       "    }\n",
       "\n",
       "    .dataframe tbody tr th {\n",
       "        vertical-align: top;\n",
       "    }\n",
       "\n",
       "    .dataframe thead th {\n",
       "        text-align: right;\n",
       "    }\n",
       "</style>\n",
       "<table border=\"1\" class=\"dataframe\">\n",
       "  <thead>\n",
       "    <tr style=\"text-align: right;\">\n",
       "      <th></th>\n",
       "      <th>Title</th>\n",
       "      <th>HouseTypeCssClass</th>\n",
       "    </tr>\n",
       "  </thead>\n",
       "  <tbody>\n",
       "    <tr>\n",
       "      <th>0</th>\n",
       "      <td>Cho thuê kho xưởng tại KCN Hà Bình Phương, Thư...</td>\n",
       "      <td>tp-warehouse</td>\n",
       "    </tr>\n",
       "    <tr>\n",
       "      <th>1</th>\n",
       "      <td>Cần bán kho xưởng đường Nguyễn Duy Trinh, P. L...</td>\n",
       "      <td>tp-warehouse</td>\n",
       "    </tr>\n",
       "    <tr>\n",
       "      <th>2</th>\n",
       "      <td>Tại KCN Quốc Oai Hà Nội cho thuê kho xưởng</td>\n",
       "      <td>tp-warehouse</td>\n",
       "    </tr>\n",
       "    <tr>\n",
       "      <th>3</th>\n",
       "      <td>Kho,xưởng ở Linh Đông Thủ Đức 500M2 GIÁ 20 TRIỆU</td>\n",
       "      <td>tp-warehouse</td>\n",
       "    </tr>\n",
       "    <tr>\n",
       "      <th>4</th>\n",
       "      <td>Cho thuê kho 1200m2 tại thủ dầu một, bình dươn...</td>\n",
       "      <td>tp-warehouse</td>\n",
       "    </tr>\n",
       "  </tbody>\n",
       "</table>\n",
       "</div>"
      ],
      "text/plain": [
       "                                               Title HouseTypeCssClass\n",
       "0  Cho thuê kho xưởng tại KCN Hà Bình Phương, Thư...      tp-warehouse\n",
       "1  Cần bán kho xưởng đường Nguyễn Duy Trinh, P. L...      tp-warehouse\n",
       "2         Tại KCN Quốc Oai Hà Nội cho thuê kho xưởng      tp-warehouse\n",
       "3   Kho,xưởng ở Linh Đông Thủ Đức 500M2 GIÁ 20 TRIỆU      tp-warehouse\n",
       "4  Cho thuê kho 1200m2 tại thủ dầu một, bình dươn...      tp-warehouse"
      ]
     },
     "execution_count": 9,
     "metadata": {
      "tags": []
     },
     "output_type": "execute_result"
    }
   ],
   "source": [
    "data.head(5)"
   ]
  },
  {
   "cell_type": "markdown",
   "metadata": {
    "colab_type": "text",
    "id": "ihOG2GDenAf9"
   },
   "source": [
    "Áp dụng hàm xử lý (replace_words) vào cột tiêu đề (Title) của data"
   ]
  },
  {
   "cell_type": "code",
   "execution_count": 0,
   "metadata": {
    "colab": {},
    "colab_type": "code",
    "id": "ayGfF_uPkJg-"
   },
   "outputs": [],
   "source": [
    "data['Title'] = data['Title'].apply(replace_words)"
   ]
  },
  {
   "cell_type": "markdown",
   "metadata": {
    "colab_type": "text",
    "id": "ZSx7qHQ1nIfd"
   },
   "source": [
    "Thử hiển thị một số dòng để xem đã xử lý đúng hay chưa"
   ]
  },
  {
   "cell_type": "code",
   "execution_count": 11,
   "metadata": {
    "colab": {
     "base_uri": "https://localhost:8080/",
     "height": 204
    },
    "colab_type": "code",
    "id": "DYQ6gbxgfP0-",
    "outputId": "8f8333f1-2ff8-4122-d184-925fa819cae4"
   },
   "outputs": [
    {
     "data": {
      "text/html": [
       "<div>\n",
       "<style scoped>\n",
       "    .dataframe tbody tr th:only-of-type {\n",
       "        vertical-align: middle;\n",
       "    }\n",
       "\n",
       "    .dataframe tbody tr th {\n",
       "        vertical-align: top;\n",
       "    }\n",
       "\n",
       "    .dataframe thead th {\n",
       "        text-align: right;\n",
       "    }\n",
       "</style>\n",
       "<table border=\"1\" class=\"dataframe\">\n",
       "  <thead>\n",
       "    <tr style=\"text-align: right;\">\n",
       "      <th></th>\n",
       "      <th>Title</th>\n",
       "      <th>HouseTypeCssClass</th>\n",
       "    </tr>\n",
       "  </thead>\n",
       "  <tbody>\n",
       "    <tr>\n",
       "      <th>0</th>\n",
       "      <td>cho thuê kho xưởng tại kcn hà bình phương thườ...</td>\n",
       "      <td>tp-warehouse</td>\n",
       "    </tr>\n",
       "    <tr>\n",
       "      <th>1</th>\n",
       "      <td>cần bán kho xưởng đường nguyễn duy trinh long ...</td>\n",
       "      <td>tp-warehouse</td>\n",
       "    </tr>\n",
       "    <tr>\n",
       "      <th>2</th>\n",
       "      <td>tại kcn quốc oai hà nội cho thuê kho xưởng</td>\n",
       "      <td>tp-warehouse</td>\n",
       "    </tr>\n",
       "    <tr>\n",
       "      <th>3</th>\n",
       "      <td>kho xưởng ở linh đông thủ đức</td>\n",
       "      <td>tp-warehouse</td>\n",
       "    </tr>\n",
       "    <tr>\n",
       "      <th>4</th>\n",
       "      <td>cho thuê kho tại thủ dầu một bình dương cho</td>\n",
       "      <td>tp-warehouse</td>\n",
       "    </tr>\n",
       "  </tbody>\n",
       "</table>\n",
       "</div>"
      ],
      "text/plain": [
       "                                               Title HouseTypeCssClass\n",
       "0  cho thuê kho xưởng tại kcn hà bình phương thườ...      tp-warehouse\n",
       "1  cần bán kho xưởng đường nguyễn duy trinh long ...      tp-warehouse\n",
       "2         tại kcn quốc oai hà nội cho thuê kho xưởng      tp-warehouse\n",
       "3                      kho xưởng ở linh đông thủ đức      tp-warehouse\n",
       "4        cho thuê kho tại thủ dầu một bình dương cho      tp-warehouse"
      ]
     },
     "execution_count": 11,
     "metadata": {
      "tags": []
     },
     "output_type": "execute_result"
    }
   ],
   "source": [
    "data.head(5)"
   ]
  },
  {
   "cell_type": "markdown",
   "metadata": {
    "colab_type": "text",
    "id": "P1wSTczknU-8"
   },
   "source": [
    "Vẽ biểu đồ"
   ]
  },
  {
   "cell_type": "code",
   "execution_count": 12,
   "metadata": {
    "colab": {
     "base_uri": "https://localhost:8080/",
     "height": 374
    },
    "colab_type": "code",
    "id": "wDDW448hZWZp",
    "outputId": "56ee7b20-3216-4908-b20e-e2996e43e19b"
   },
   "outputs": [
    {
     "data": {
      "image/png": "[encoded data removed]",
      "text/plain": [
       "<matplotlib.figure.Figure at 0x7f25ba996a58>"
      ]
     },
     "metadata": {
      "tags": []
     },
     "output_type": "display_data"
    }
   ],
   "source": [
    "fig = plt.figure(figsize=(8,6))\n",
    "data.groupby('HouseTypeCssClass').HouseTypeCssClass.count().plot.barh()\n",
    "plt.show()"
   ]
  },
  {
   "cell_type": "markdown",
   "metadata": {
    "colab_type": "text",
    "id": "937DvQ0QnWYk"
   },
   "source": [
    "Đếm số lượng các nhãn (HouseTypeCssClass)"
   ]
  },
  {
   "cell_type": "code",
   "execution_count": 13,
   "metadata": {
    "colab": {
     "base_uri": "https://localhost:8080/",
     "height": 187
    },
    "colab_type": "code",
    "id": "b_nRPvSZf3d5",
    "outputId": "b11395b4-7ba3-4ac0-dd21-ef753aceeb0a"
   },
   "outputs": [
    {
     "data": {
      "text/plain": [
       "tp-house        2366\n",
       "tp-apartment    1169\n",
       "tp-none          962\n",
       "tp-villa         146\n",
       "tp-others        132\n",
       "tp-project        76\n",
       "tp-building       71\n",
       "tp-warehouse      45\n",
       "tp-hotel          25\n",
       "Name: HouseTypeCssClass, dtype: int64"
      ]
     },
     "execution_count": 13,
     "metadata": {
      "tags": []
     },
     "output_type": "execute_result"
    }
   ],
   "source": [
    "data['HouseTypeCssClass'].value_counts()"
   ]
  },
  {
   "cell_type": "markdown",
   "metadata": {
    "colab_type": "text",
    "id": "BhD3v5i8nZ2N"
   },
   "source": [
    "Sử dụng Bag of Words để phân loại .Thực hiện đếm từ ở tập huấn luyện. Kết quả trả về là ma trận các mẫu từ và số lần xuất hiện.Sau đó chuyển chúng sang dạng array để chút nữa sẽ chuyển sang dạng tensor. "
   ]
  },
  {
   "cell_type": "code",
   "execution_count": 14,
   "metadata": {
    "colab": {
     "base_uri": "https://localhost:8080/",
     "height": 34
    },
    "colab_type": "code",
    "id": "jjSPRPFqYNyk",
    "outputId": "5de0062a-3a06-4e7c-e372-e6f4dde1fd63"
   },
   "outputs": [
    {
     "name": "stdout",
     "output_type": "stream",
     "text": [
      "(4992, 2565)\n"
     ]
    }
   ],
   "source": [
    "count_vect = CountVectorizer()\n",
    "X_train_counts = count_vect.fit_transform(data['Title'])\n",
    "x=X_train_counts.toarray()\n",
    "y=data['HouseTypeCssClass'].map({'tp-house': 0, 'tp-apartment': 1,'tp-none':2,'tp-villa':3,'tp-project':4,'tp-building':5,'tp-warehouse':6,'tp-others':7,'tp-hotel':8})\n",
    "y=y.astype('float32').values\n",
    "print(x.shape)"
   ]
  },
  {
   "cell_type": "markdown",
   "metadata": {
    "colab_type": "text",
    "id": "VqXBodM0oYTN"
   },
   "source": [
    "Chia dữ liệu ra theo tỷ lệ 8 phần cho train và 2 phần cho test .Rồi chuyển sang dạng tensor ( dữ liệu có trộn lên )"
   ]
  },
  {
   "cell_type": "code",
   "execution_count": 16,
   "metadata": {
    "colab": {
     "base_uri": "https://localhost:8080/",
     "height": 85
    },
    "colab_type": "code",
    "id": "-vGmWtf3pPkO",
    "outputId": "52037cc1-0b96-4fa4-a15b-ec5e70f37a65"
   },
   "outputs": [
    {
     "name": "stdout",
     "output_type": "stream",
     "text": [
      "Shape train\n",
      "(3993, 2565)\n",
      "Shape test:\n",
      "(999, 2565)\n"
     ]
    }
   ],
   "source": [
    "features_train, features_test, targets_train, targets_test = train_test_split(x, y, test_size = 0.2, random_state = 50)\n",
    "featuresTrain = torch.from_numpy(features_train)\n",
    "targetsTrain = torch.from_numpy(targets_train).type(torch.LongTensor) \n",
    "\n",
    "\n",
    "featuresTest = torch.from_numpy(features_test)\n",
    "targetsTest = torch.from_numpy(targets_test).type(torch.LongTensor) \n",
    "\n",
    "train = torch.utils.data.TensorDataset(featuresTrain,targetsTrain)\n",
    "test = torch.utils.data.TensorDataset(featuresTest,targetsTest)\n",
    "\n",
    "train_loader = torch.utils.data.DataLoader(train, batch_size =features_train.shape[0], shuffle = True)\n",
    "test_loader = torch.utils.data.DataLoader(test, batch_size =features_test.shape[0], shuffle = True)\n",
    "print(\"Shape train\")\n",
    "print( features_train.shape)\n",
    "print(\"Shape test:\")\n",
    "print(features_test.shape)"
   ]
  },
  {
   "cell_type": "markdown",
   "metadata": {
    "colab_type": "text",
    "id": "Gthc_0gSqY8t"
   },
   "source": [
    "Sử dụng loại mạng Feed Forward\n",
    "\n",
    "\n",
    "Với hàm kích hoạt là Tanh và dropout là 0.1"
   ]
  },
  {
   "cell_type": "code",
   "execution_count": 0,
   "metadata": {
    "colab": {},
    "colab_type": "code",
    "id": "eAGmOQu0pVfc"
   },
   "outputs": [],
   "source": [
    "class ANNV2(nn.Module):\n",
    "  def __init__(self):\n",
    "    super(ANNV2, self).__init__()\n",
    "    self.fc1=nn.Linear(2565,3784)    \n",
    "    self.dense3 = nn.BatchNorm1d(3784)\n",
    "    self.tanh3=nn.Tanh()\n",
    "    self.fc4=nn.Linear(3784,1310)\n",
    "    self.dense4 = nn.BatchNorm1d(1310)\n",
    "    self.tanh4=nn.Tanh()\n",
    "    self.fc5=nn.Linear(1310,512)\n",
    "    self.dense5 = nn.BatchNorm1d(512)\n",
    "    self.tanh5=nn.Tanh()\n",
    "    self.fc6=nn.Linear(512,9)\n",
    "    self.softmax6=nn.LogSoftmax()\n",
    "    self.dropout = nn.Dropout(0.1)\n",
    "  def forward(self,x):\n",
    "    out=self.fc1(x)\n",
    "    out=self.dense3(out)    \n",
    "    out=self.tanh3(out)\n",
    "    out=self.dropout(out)\n",
    "    out=self.fc4(out)    \n",
    "    out=self.dense4(out)\n",
    "    out=self.dropout(out)\n",
    "    out=self.tanh4(out)\n",
    "    out=self.fc5(out)\n",
    "    out=self.dense5(out)\n",
    "    out=self.dropout(out)\n",
    "    out=self.tanh5(out)\n",
    "    out=self.fc6(out)\n",
    "    out=self.softmax6(out)\n",
    "    return out"
   ]
  },
  {
   "cell_type": "markdown",
   "metadata": {
    "colab_type": "text",
    "id": "5zX11qeBp71g"
   },
   "source": [
    "l2 regularization là 0.22\n",
    "\n",
    "\n",
    "learning rate là 0.00001\n",
    "\n",
    "\n",
    "Sử dụng hàm Adam để huấn luyện\n",
    "\n",
    "\n",
    "Hàm mất mát là CrossEntropy\n",
    "\n",
    "\n",
    "---\n",
    "\n",
    "\n",
    "Ở đây do sau nhiều lần chạy chúng em thấy cứ đến khoảng 93-93.9 phần trăm là accuracy của phần test hội tụ nên chúng em cho nó dừng và save paramater của nó khi accuracy của test hơn 93% đồng thới cứ sau 50 epoch là sẽ in ra accuracy của phần train và test ,sau 500 epoch thì sẽ in ra biểu đồ accuracy của train và test."
   ]
  },
  {
   "cell_type": "code",
   "execution_count": 18,
   "metadata": {
    "colab": {
     "base_uri": "https://localhost:8080/",
     "height": 857
    },
    "colab_type": "code",
    "id": "Nncr2gJrpUJ5",
    "outputId": "fc2ae1d0-836a-43b2-eadb-05a94693ff25"
   },
   "outputs": [
    {
     "name": "stdout",
     "output_type": "stream",
     "text": [
      "Accuracy train :81.16703796386719 \n",
      "Accuracy test :82.58258056640625 \n",
      "Iteration: 50  Loss: 1.335284948348999  Loss test: 1.3324850797653198 \n",
      "Accuracy train :85.24918365478516 \n",
      "Accuracy test :86.0860824584961 \n",
      "Iteration: 100  Loss: 1.028560757637024  Loss test: 1.0308774709701538 \n",
      "Accuracy train :88.60505676269531 \n",
      "Accuracy test :88.38838958740234 \n",
      "Iteration: 150  Loss: 0.8637910485267639  Loss test: 0.8774993419647217 \n",
      "Accuracy train :90.40821075439453 \n",
      "Accuracy test :89.989990234375 \n",
      "Iteration: 200  Loss: 0.7535867691040039  Loss test: 0.7785775661468506 \n",
      "Accuracy train :91.53518676757812 \n",
      "Accuracy test :91.49149322509766 \n",
      "Iteration: 250  Loss: 0.6706427931785583  Loss test: 0.7059558629989624 \n",
      "Accuracy train :92.96268463134766 \n",
      "Accuracy test :91.79179382324219 \n",
      "Iteration: 300  Loss: 0.6022730469703674  Loss test: 0.6419758200645447 \n",
      "Accuracy train :93.8642578125 \n",
      "Accuracy test :92.09209442138672 \n",
      "Iteration: 350  Loss: 0.5466455817222595  Loss test: 0.5994586944580078 \n",
      "Accuracy train :94.44026947021484 \n",
      "Accuracy test :91.99198913574219 \n",
      "Iteration: 400  Loss: 0.499778151512146  Loss test: 0.5629958510398865 \n",
      "Accuracy train :94.91609954833984 \n",
      "Accuracy test :92.89289093017578 \n",
      "Iteration: 450  Loss: 0.4558868110179901  Loss test: 0.5323886275291443 \n",
      "Checkpoint Directory exists! \n",
      "Accuracy test :93.09309387207031 \n"
     ]
    },
    {
     "data": {
      "image/png": "[encoded data removed]",
      "text/plain": [
       "<matplotlib.figure.Figure at 0x7f257953c978>"
      ]
     },
     "metadata": {
      "tags": []
     },
     "output_type": "display_data"
    },
    {
     "name": "stdout",
     "output_type": "stream",
     "text": [
      "END_GAME\n"
     ]
    }
   ],
   "source": [
    "model=ANNV2()\n",
    "model.cuda()\n",
    "error = nn.CrossEntropyLoss()\n",
    "\n",
    "#Adam Optimizer\n",
    "learning_rate =0.00001\n",
    "optimizer = torch.optim.Adam(model.parameters(), lr=learning_rate,weight_decay=0.22,amsgrad=True)\n",
    "\n",
    "count = 1\n",
    "testloss=[]\n",
    "loss_list = []\n",
    "iteration_list = []\n",
    "accuracy_list = []\n",
    "accuracy_test=[]\n",
    "counts=[]\n",
    "correct=0\n",
    "total=0\n",
    "flag=1\n",
    "preMax=0\n",
    "epoch=0\n",
    "flagchange=0\n",
    "while True :\n",
    "    correct=0\n",
    "    total=0\n",
    "    for images, labels in train_loader:\n",
    "        \n",
    "        train=Variable(images.float()).cuda()\n",
    "        labels = Variable(labels).cuda()\n",
    "        \n",
    "        # Clear gradients\n",
    "        optimizer.zero_grad()\n",
    "        \n",
    "        # Forward propagation\n",
    "        outputs = model(train)\n",
    "        \n",
    "        # Calculate softmax and ross entropy loss\n",
    "        loss = error(outputs, labels)\n",
    "        \n",
    "        # Calculating gradients\n",
    "        loss.backward()\n",
    "        \n",
    "        # Update parameters\n",
    "        optimizer.step()\n",
    "       \n",
    "        _,predicted = torch.max(outputs.data, 1)\n",
    "        predicted=predicted.cuda()\n",
    "        total = len(labels)\n",
    "        correct = (predicted == labels).sum()\n",
    "    epoch=epoch+1    \n",
    "    accuracy = (100.0 *correct.float() / float(total)).float()\n",
    "    accuracy_list.append(accuracy)\n",
    "    if epoch%50==0:\n",
    "        print(\"Accuracy train :{} \".format(accuracy))          \n",
    "    correct=0\n",
    "    total=0    \n",
    "    for images, labels in test_loader:\n",
    "        test=Variable(images.float()).cuda()\n",
    "        labels = Variable(labels).cuda()\n",
    "        outputs = model(test)\n",
    "        teloss=error(outputs, labels)\n",
    "        _,predicted = torch.max(outputs.data, 1)\n",
    "        predicted=predicted.cuda()\n",
    "        total = len(labels)\n",
    "        correct = (predicted == labels).sum()\n",
    "    accuracy = (100.0 *correct.float() / float(total)).float()\n",
    "    accuracy_test.append(accuracy)\n",
    "    \n",
    "    if accuracy>=93 :\n",
    "      state = {'epoch': count + 1,'state_dict': model.state_dict(),'optim_dict' : optimizer.state_dict()}\n",
    "      save_checkpoint(state,False,\"./drive/My Drive/DataSet/\",\"bds02\")\n",
    "      print(\"Accuracy test :{} \".format(accuracy))\n",
    "      plt.plot(range(0,len(accuracy_list)),accuracy_list)\n",
    "      plt.plot(range(0,len(accuracy_test)),accuracy_test)\n",
    "      plt.show()\n",
    "      plt.pause(0.0001)\n",
    "      break\n",
    "      \n",
    "    if epoch%500==0:\n",
    "      plt.plot(range(0,epoch),accuracy_list)\n",
    "      plt.plot(range(0,epoch),accuracy_test)\n",
    "      plt.show()\n",
    "      plt.pause(0.0001)\n",
    "    if epoch%(50)==0:\n",
    "      print(\"Accuracy test :{} \".format(accuracy))\n",
    "      print('Iteration: {}  Loss: {}  Loss test: {} '.format(epoch, loss.data[0], teloss.data[0]))\n",
    "   \n",
    "\n",
    "\n",
    "print(\"END_GAME\")"
   ]
  },
  {
   "cell_type": "code",
   "execution_count": 19,
   "metadata": {
    "colab": {
     "base_uri": "https://localhost:8080/",
     "height": 136
    },
    "colab_type": "code",
    "id": "NaXgPaULikMf",
    "outputId": "37c5e3b8-2c65-457c-9cf6-789d6e677eb3"
   },
   "outputs": [
    {
     "name": "stdout",
     "output_type": "stream",
     "text": [
      "<class 'pandas.core.frame.DataFrame'>\n",
      "RangeIndex: 4994 entries, 0 to 4993\n",
      "Data columns (total 2 columns):\n",
      "Title                4994 non-null object\n",
      "HouseTypeCssClass    4994 non-null object\n",
      "dtypes: object(2)\n",
      "memory usage: 78.1+ KB\n"
     ]
    }
   ],
   "source": [
    "datatest=pd.read_csv(\"drive/My Drive/DataSet/test.csv\");\n",
    "datatest=datatest.drop(['Id','Content'],axis=1)\n",
    "datatest.info()"
   ]
  },
  {
   "cell_type": "code",
   "execution_count": 20,
   "metadata": {
    "colab": {
     "base_uri": "https://localhost:8080/",
     "height": 204
    },
    "colab_type": "code",
    "id": "GbifLGaringN",
    "outputId": "f9b99f13-ab6c-425d-d434-d4ba32742fc4"
   },
   "outputs": [
    {
     "data": {
      "text/html": [
       "<div>\n",
       "<style scoped>\n",
       "    .dataframe tbody tr th:only-of-type {\n",
       "        vertical-align: middle;\n",
       "    }\n",
       "\n",
       "    .dataframe tbody tr th {\n",
       "        vertical-align: top;\n",
       "    }\n",
       "\n",
       "    .dataframe thead th {\n",
       "        text-align: right;\n",
       "    }\n",
       "</style>\n",
       "<table border=\"1\" class=\"dataframe\">\n",
       "  <thead>\n",
       "    <tr style=\"text-align: right;\">\n",
       "      <th></th>\n",
       "      <th>Title</th>\n",
       "      <th>HouseTypeCssClass</th>\n",
       "    </tr>\n",
       "  </thead>\n",
       "  <tbody>\n",
       "    <tr>\n",
       "      <th>0</th>\n",
       "      <td>bán mt trần đình xu - trần hưng đạo, dt: 11.5x...</td>\n",
       "      <td>tp-house</td>\n",
       "    </tr>\n",
       "    <tr>\n",
       "      <th>1</th>\n",
       "      <td>đất mặt tiền kqh vịnh mộc - bùi xuân phái,giá tốt</td>\n",
       "      <td>tp-none</td>\n",
       "    </tr>\n",
       "    <tr>\n",
       "      <th>2</th>\n",
       "      <td>bán nhà trệt lững hẻm tổ 11. phường an khánh,</td>\n",
       "      <td>tp-house</td>\n",
       "    </tr>\n",
       "    <tr>\n",
       "      <th>3</th>\n",
       "      <td>nguyễnvăn sắt 7m5 bán nhanh cân tiền</td>\n",
       "      <td>tp-none</td>\n",
       "    </tr>\n",
       "    <tr>\n",
       "      <th>4</th>\n",
       "      <td>góc 2mt lý thường kiệt, 110m2 cần cho thuê</td>\n",
       "      <td>tp-house</td>\n",
       "    </tr>\n",
       "  </tbody>\n",
       "</table>\n",
       "</div>"
      ],
      "text/plain": [
       "                                               Title HouseTypeCssClass\n",
       "0  bán mt trần đình xu - trần hưng đạo, dt: 11.5x...          tp-house\n",
       "1  đất mặt tiền kqh vịnh mộc - bùi xuân phái,giá tốt           tp-none\n",
       "2      bán nhà trệt lững hẻm tổ 11. phường an khánh,          tp-house\n",
       "3               nguyễnvăn sắt 7m5 bán nhanh cân tiền           tp-none\n",
       "4         góc 2mt lý thường kiệt, 110m2 cần cho thuê          tp-house"
      ]
     },
     "execution_count": 20,
     "metadata": {
      "tags": []
     },
     "output_type": "execute_result"
    }
   ],
   "source": [
    "datatest.head(5)"
   ]
  },
  {
   "cell_type": "code",
   "execution_count": 21,
   "metadata": {
    "colab": {
     "base_uri": "https://localhost:8080/",
     "height": 204
    },
    "colab_type": "code",
    "id": "dTajgR7fNB7l",
    "outputId": "3743ff22-5df0-4f38-cd60-59d3f4751ed5"
   },
   "outputs": [
    {
     "data": {
      "text/html": [
       "<div>\n",
       "<style scoped>\n",
       "    .dataframe tbody tr th:only-of-type {\n",
       "        vertical-align: middle;\n",
       "    }\n",
       "\n",
       "    .dataframe tbody tr th {\n",
       "        vertical-align: top;\n",
       "    }\n",
       "\n",
       "    .dataframe thead th {\n",
       "        text-align: right;\n",
       "    }\n",
       "</style>\n",
       "<table border=\"1\" class=\"dataframe\">\n",
       "  <thead>\n",
       "    <tr style=\"text-align: right;\">\n",
       "      <th></th>\n",
       "      <th>Title</th>\n",
       "      <th>HouseTypeCssClass</th>\n",
       "    </tr>\n",
       "  </thead>\n",
       "  <tbody>\n",
       "    <tr>\n",
       "      <th>0</th>\n",
       "      <td>bán mt trần đình xu trần hưng đạo</td>\n",
       "      <td>tp-house</td>\n",
       "    </tr>\n",
       "    <tr>\n",
       "      <th>1</th>\n",
       "      <td>đất mặt tiền kqh vịnh mộc bùi xuân phái tốt</td>\n",
       "      <td>tp-none</td>\n",
       "    </tr>\n",
       "    <tr>\n",
       "      <th>2</th>\n",
       "      <td>bán nhà trệt lững hẻm tổ phường an khánh</td>\n",
       "      <td>tp-house</td>\n",
       "    </tr>\n",
       "    <tr>\n",
       "      <th>3</th>\n",
       "      <td>nguyễnvăn sắt bán nhanh cân tiền</td>\n",
       "      <td>tp-none</td>\n",
       "    </tr>\n",
       "    <tr>\n",
       "      <th>4</th>\n",
       "      <td>góc mt lý thường kiệt cần cho thuê</td>\n",
       "      <td>tp-house</td>\n",
       "    </tr>\n",
       "  </tbody>\n",
       "</table>\n",
       "</div>"
      ],
      "text/plain": [
       "                                         Title HouseTypeCssClass\n",
       "0            bán mt trần đình xu trần hưng đạo          tp-house\n",
       "1  đất mặt tiền kqh vịnh mộc bùi xuân phái tốt           tp-none\n",
       "2     bán nhà trệt lững hẻm tổ phường an khánh          tp-house\n",
       "3             nguyễnvăn sắt bán nhanh cân tiền           tp-none\n",
       "4           góc mt lý thường kiệt cần cho thuê          tp-house"
      ]
     },
     "execution_count": 21,
     "metadata": {
      "tags": []
     },
     "output_type": "execute_result"
    }
   ],
   "source": [
    "datatest['Title'] = datatest['Title'].apply(replace_words)\n",
    "datatest.head(5)"
   ]
  },
  {
   "cell_type": "code",
   "execution_count": 22,
   "metadata": {
    "colab": {
     "base_uri": "https://localhost:8080/",
     "height": 374
    },
    "colab_type": "code",
    "id": "VjQfSJKHi5mk",
    "outputId": "fdc1b407-cd14-4e21-ce8a-3377ff9b71a3"
   },
   "outputs": [
    {
     "data": {
      "image/png": "[encoded data removed]",
      "text/plain": [
       "<matplotlib.figure.Figure at 0x7f257501f710>"
      ]
     },
     "metadata": {
      "tags": []
     },
     "output_type": "display_data"
    }
   ],
   "source": [
    "fig = plt.figure(figsize=(8,6))\n",
    "datatest.groupby('HouseTypeCssClass').HouseTypeCssClass.count().plot.barh()\n",
    "plt.show()"
   ]
  },
  {
   "cell_type": "code",
   "execution_count": 23,
   "metadata": {
    "colab": {
     "base_uri": "https://localhost:8080/",
     "height": 34
    },
    "colab_type": "code",
    "id": "gnsnRkwsNPuN",
    "outputId": "dcbe542e-3ec2-4eb2-ab45-32aaffd54776"
   },
   "outputs": [
    {
     "name": "stdout",
     "output_type": "stream",
     "text": [
      "(4994, 2565)\n"
     ]
    }
   ],
   "source": [
    "X_test_counts=count_vect.transform(datatest['Title'])\n",
    "x_test=X_test_counts.toarray()\n",
    "y_test=datatest['HouseTypeCssClass'].map({'tp-house': 0, 'tp-apartment': 1,'tp-none':2,'tp-villa':3,'tp-project':4,'tp-building':5,'tp-warehouse':6,'tp-others':7,'tp-hotel':8})\n",
    "y_test=y_test.astype('float32').values\n",
    "print(x_test.shape)"
   ]
  },
  {
   "cell_type": "code",
   "execution_count": 33,
   "metadata": {
    "colab": {
     "base_uri": "https://localhost:8080/",
     "height": 51
    },
    "colab_type": "code",
    "id": "fkUCXrM9OiXd",
    "outputId": "050f5af2-ce2f-4c9b-d901-59dc6770a9ad"
   },
   "outputs": [
    {
     "name": "stdout",
     "output_type": "stream",
     "text": [
      "Correct 4448 in 4994 record\n",
      "Accuracy: 89.06687927246094\n"
     ]
    }
   ],
   "source": [
    "datatest = torch.from_numpy(x_test).type(torch.LongTensor) \n",
    "valuetest = torch.from_numpy(y_test).type(torch.LongTensor) # data type is long\n",
    "datatest=Variable(datatest.float()).cuda()\n",
    "valuetest=Variable(valuetest).cuda()\n",
    "#load_checkpoint(\"./drive/My Drive/DataSet/bds02last.pth.tar\", model, optimizer)\n",
    "outputs = model(datatest)\n",
    "_,predicted = torch.max(outputs.data, 1)\n",
    "predicted=predicted.cuda()\n",
    "total = len(valuetest)\n",
    "correct = (predicted == valuetest).sum()\n",
    "print(\"Correct {} in {} record\".format(correct,datatest.shape[0]))\n",
    "print(\"Accuracy: {}\".format((100.0 *correct.float() / float(total)).float()))"
   ]
  }
 ],
 "metadata": {
  "accelerator": "GPU",
  "colab": {
   "collapsed_sections": [],
   "name": "Copy of BDSClassification.ipynb",
   "provenance": [],
   "version": "0.3.2"
  },
  "kernelspec": {
   "display_name": "Python 3",
   "language": "python",
   "name": "python3"
  },
  "language_info": {
   "codemirror_mode": {
    "name": "ipython",
    "version": 3
   },
   "file_extension": ".py",
   "mimetype": "text/x-python",
   "name": "python",
   "nbconvert_exporter": "python",
   "pygments_lexer": "ipython3",
   "version": "3.6.5"
  }
 },
 "nbformat": 4,
 "nbformat_minor": 1
}
